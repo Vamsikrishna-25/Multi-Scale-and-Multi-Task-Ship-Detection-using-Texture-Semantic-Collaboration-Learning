{
 "cells": [
  {
   "cell_type": "code",
   "execution_count": null,
   "id": "64f7e4ef",
   "metadata": {},
   "outputs": [],
   "source": [
    "import numpy as np\n",
    "import seaborn as sns\n",
    "from numpy import expand_dims\n",
    "import pandas as pd\n",
    "import json\n",
    "import tensorflow.keras\n",
    "from tensorflow.keras.models import Sequential\n",
    "from tensorflow.keras import layers\n",
    "from tensorflow.keras.utils import to_categorical\n",
    "from tensorflow.keras.layers import Dense, Dropout, Flatten, Conv2D, MaxPool2D\n",
    "from keras.wrappers.scikit_learn import KerasClassifier\n",
    "from tensorflow.keras.optimizers import RMSprop,Adam\n",
    "from sklearn import metrics\n",
    "from tensorflow.keras.preprocessing.image import ImageDataGenerator\n",
    "from tensorflow.keras import callbacks\n",
    "from tensorflow.keras.callbacks import EarlyStopping\n",
    "from sklearn.metrics import confusion_matrix\n",
    "from sklearn.model_selection import cross_val_sc0ore\n",
    "import matplotlib.pyplot as plt\n",
    "import seaborn as sns\n",
    "from sklearn.model_selection import train_test_split"
   ]
  },
  {
   "cell_type": "code",
   "execution_count": null,
   "id": "7bb893af",
   "metadata": {
    "execution": {
     "iopub.execute_input": "2022-04-08T22:48:06.718251Z",
     "iopub.status.busy": "2022-04-08T22:48:06.717465Z",
     "iopub.status.idle": "2022-04-08T22:48:26.801366Z",
     "shell.execute_reply": "2022-04-08T22:48:26.801871Z",
     "shell.execute_reply.started": "2022-03-23T13:23:48.001766Z"
    },
    "papermill": {
     "duration": 20.145802,
     "end_time": "2022-04-08T22:48:26.802038",
     "exception": false,
     "start_time": "2022-04-08T22:48:06.656236",
     "status": "completed"
    },
    "tags": []
   },
   "outputs": [],
   "source": [
    "with open('Dataset/shipsnet.json') as data_file:\n",
    "    dataset = json.load(data_file)"
   ]
  },
  {
   "cell_type": "code",
   "execution_count": null,
   "id": "3f4a7421",
   "metadata": {},
   "outputs": [],
   "source": [
    "shipsnet= pd.DataFrame(dataset)"
   ]
  },
  {
   "cell_type": "code",
   "execution_count": null,
   "id": "55c04642",
   "metadata": {},
   "outputs": [],
   "source": [
    "shipsnet.head()"
   ]
  },
  {
   "cell_type": "code",
   "execution_count": null,
   "id": "41137469",
   "metadata": {},
   "outputs": [],
   "source": [
    "shipsnet.sample(10)"
   ]
  },
  {
   "cell_type": "code",
   "execution_count": null,
   "id": "54a4e300",
   "metadata": {
    "execution": {
     "iopub.execute_input": "2022-04-08T22:48:26.923776Z",
     "iopub.status.busy": "2022-04-08T22:48:26.923080Z",
     "iopub.status.idle": "2022-04-08T22:48:26.942950Z",
     "shell.execute_reply": "2022-04-08T22:48:26.943631Z",
     "shell.execute_reply.started": "2022-03-23T13:24:08.293864Z"
    },
    "papermill": {
     "duration": 0.084498,
     "end_time": "2022-04-08T22:48:26.943808",
     "exception": false,
     "start_time": "2022-04-08T22:48:26.859310",
     "status": "completed"
    },
    "tags": []
   },
   "outputs": [],
   "source": [
    "shipsnet.info()"
   ]
  },
  {
   "cell_type": "code",
   "execution_count": null,
   "id": "ebee33ef",
   "metadata": {
    "execution": {
     "iopub.execute_input": "2022-04-08T22:48:27.176619Z",
     "iopub.status.busy": "2022-04-08T22:48:27.175965Z",
     "iopub.status.idle": "2022-04-08T22:48:27.197023Z",
     "shell.execute_reply": "2022-04-08T22:48:27.197563Z",
     "shell.execute_reply.started": "2022-03-23T13:24:08.317812Z"
    },
    "papermill": {
     "duration": 0.082379,
     "end_time": "2022-04-08T22:48:27.197738",
     "exception": false,
     "start_time": "2022-04-08T22:48:27.115359",
     "status": "completed"
    },
    "tags": []
   },
   "outputs": [],
   "source": [
    "shipsnet = shipsnet[[\"data\", \"labels\"]]"
   ]
  },
  {
   "cell_type": "code",
   "execution_count": null,
   "id": "0fc0e10b",
   "metadata": {},
   "outputs": [],
   "source": [
    "shipsnet.head()"
   ]
  },
  {
   "cell_type": "code",
   "execution_count": null,
   "id": "1e0cc290",
   "metadata": {
    "execution": {
     "iopub.execute_input": "2022-04-08T22:48:27.317019Z",
     "iopub.status.busy": "2022-04-08T22:48:27.316075Z",
     "iopub.status.idle": "2022-04-08T22:48:27.321939Z",
     "shell.execute_reply": "2022-04-08T22:48:27.322441Z",
     "shell.execute_reply.started": "2022-03-23T13:24:08.34518Z"
    },
    "papermill": {
     "duration": 0.06709,
     "end_time": "2022-04-08T22:48:27.322626",
     "exception": false,
     "start_time": "2022-04-08T22:48:27.255536",
     "status": "completed"
    },
    "tags": []
   },
   "outputs": [],
   "source": [
    "len(shipsnet[\"data\"].iloc[0])"
   ]
  },
  {
   "cell_type": "code",
   "execution_count": null,
   "id": "c342b03c",
   "metadata": {},
   "outputs": [],
   "source": [
    "ship_images = shipsnet[\"labels\"].value_counts()[0]\n",
    "no_ship_images = shipsnet[\"labels\"].value_counts()[1]"
   ]
  },
  {
   "cell_type": "code",
   "execution_count": null,
   "id": "81e37575",
   "metadata": {
    "execution": {
     "iopub.execute_input": "2022-04-08T22:48:27.558392Z",
     "iopub.status.busy": "2022-04-08T22:48:27.557764Z",
     "iopub.status.idle": "2022-04-08T22:48:27.566830Z",
     "shell.execute_reply": "2022-04-08T22:48:27.567693Z",
     "shell.execute_reply.started": "2022-03-23T13:24:08.355531Z"
    },
    "papermill": {
     "duration": 0.07098,
     "end_time": "2022-04-08T22:48:27.567917",
     "exception": false,
     "start_time": "2022-04-08T22:48:27.496937",
     "status": "completed"
    },
    "tags": []
   },
   "outputs": [],
   "source": [
    "print(\"Number of the ship_images :{}\".format(ship_images),\"\\n\")\n",
    "print(\"Number of the ship_images :{}\".format(no_ship_images))"
   ]
  },
  {
   "cell_type": "code",
   "execution_count": null,
   "id": "9f2de08a",
   "metadata": {
    "execution": {
     "iopub.execute_input": "2022-04-08T22:48:42.948234Z",
     "iopub.status.busy": "2022-04-08T22:48:42.947121Z",
     "iopub.status.idle": "2022-04-08T22:48:43.028624Z",
     "shell.execute_reply": "2022-04-08T22:48:43.028057Z",
     "shell.execute_reply.started": "2022-03-23T13:24:08.369422Z"
    },
    "papermill": {
     "duration": 15.401404,
     "end_time": "2022-04-08T22:48:43.028773",
     "exception": false,
     "start_time": "2022-04-08T22:48:27.627369",
     "status": "completed"
    },
    "tags": []
   },
   "outputs": [],
   "source": [
    "x = np.array(dataset['data']).astype('uint8')\n",
    "y = np.array(dataset['labels']).astype('uint8')"
   ]
  },
  {
   "cell_type": "code",
   "execution_count": null,
   "id": "6b47d13b",
   "metadata": {
    "execution": {
     "iopub.execute_input": "2022-04-08T22:48:43.152859Z",
     "iopub.status.busy": "2022-04-08T22:48:43.152003Z",
     "iopub.status.idle": "2022-04-08T22:48:43.156203Z",
     "shell.execute_reply": "2022-04-08T22:48:43.155467Z",
     "shell.execute_reply.started": "2022-03-23T13:24:23.644256Z"
    },
    "papermill": {
     "duration": 0.067638,
     "end_time": "2022-04-08T22:48:43.156346",
     "exception": false,
     "start_time": "2022-04-08T22:48:43.088708",
     "status": "completed"
    },
    "tags": []
   },
   "outputs": [],
   "source": [
    "x.shape"
   ]
  },
  {
   "cell_type": "code",
   "execution_count": null,
   "id": "f9a72c52",
   "metadata": {
    "execution": {
     "iopub.execute_input": "2022-04-08T22:48:43.398717Z",
     "iopub.status.busy": "2022-04-08T22:48:43.397839Z",
     "iopub.status.idle": "2022-04-08T22:48:43.401957Z",
     "shell.execute_reply": "2022-04-08T22:48:43.401309Z",
     "shell.execute_reply.started": "2022-03-23T13:24:23.652584Z"
    },
    "papermill": {
     "duration": 0.068232,
     "end_time": "2022-04-08T22:48:43.402113",
     "exception": false,
     "start_time": "2022-04-08T22:48:43.333881",
     "status": "completed"
    },
    "tags": []
   },
   "outputs": [],
   "source": [
    "x_reshaped = x.reshape([-1, 3, 80, 80])\n",
    "\n",
    "x_reshaped.shape"
   ]
  },
  {
   "cell_type": "code",
   "execution_count": null,
   "id": "b328b482",
   "metadata": {
    "execution": {
     "iopub.execute_input": "2022-04-08T22:48:43.766362Z",
     "iopub.status.busy": "2022-04-08T22:48:43.765405Z",
     "iopub.status.idle": "2022-04-08T22:48:43.769745Z",
     "shell.execute_reply": "2022-04-08T22:48:43.769243Z",
     "shell.execute_reply.started": "2022-03-23T13:24:23.665454Z"
    },
    "papermill": {
     "duration": 0.068974,
     "end_time": "2022-04-08T22:48:43.769885",
     "exception": false,
     "start_time": "2022-04-08T22:48:43.700911",
     "status": "completed"
    },
    "tags": []
   },
   "outputs": [],
   "source": [
    "x_reshaped = x.reshape([-1, 3, 80, 80]).transpose([0,2,3,1])\n",
    "x_reshaped.shape"
   ]
  },
  {
   "cell_type": "code",
   "execution_count": null,
   "id": "7ecd33b7",
   "metadata": {
    "execution": {
     "iopub.execute_input": "2022-04-08T22:48:43.919278Z",
     "iopub.status.busy": "2022-04-08T22:48:43.918324Z",
     "iopub.status.idle": "2022-04-08T22:48:43.923340Z",
     "shell.execute_reply": "2022-04-08T22:48:43.923858Z",
     "shell.execute_reply.started": "2022-03-23T13:24:23.680501Z"
    },
    "papermill": {
     "duration": 0.092921,
     "end_time": "2022-04-08T22:48:43.924093",
     "exception": false,
     "start_time": "2022-04-08T22:48:43.831172",
     "status": "completed"
    },
    "tags": []
   },
   "outputs": [],
   "source": [
    "y.shape"
   ]
  },
  {
   "cell_type": "code",
   "execution_count": null,
   "id": "ce6f5f6e",
   "metadata": {
    "execution": {
     "iopub.execute_input": "2022-04-08T22:48:44.190389Z",
     "iopub.status.busy": "2022-04-08T22:48:44.189444Z",
     "iopub.status.idle": "2022-04-08T22:48:44.196116Z",
     "shell.execute_reply": "2022-04-08T22:48:44.196733Z",
     "shell.execute_reply.started": "2022-03-23T13:24:23.69466Z"
    },
    "papermill": {
     "duration": 0.074433,
     "end_time": "2022-04-08T22:48:44.196911",
     "exception": false,
     "start_time": "2022-04-08T22:48:44.122478",
     "status": "completed"
    },
    "tags": []
   },
   "outputs": [],
   "source": [
    "y_reshaped = to_categorical(y, num_classes=2)\n",
    "\n",
    "y_reshaped.shape"
   ]
  },
  {
   "cell_type": "code",
   "execution_count": null,
   "id": "eca50dcc",
   "metadata": {
    "execution": {
     "iopub.execute_input": "2022-04-08T22:48:44.327018Z",
     "iopub.status.busy": "2022-04-08T22:48:44.326039Z",
     "iopub.status.idle": "2022-04-08T22:48:44.332719Z",
     "shell.execute_reply": "2022-04-08T22:48:44.333233Z",
     "shell.execute_reply.started": "2022-03-23T13:24:23.709396Z"
    },
    "papermill": {
     "duration": 0.074356,
     "end_time": "2022-04-08T22:48:44.333398",
     "exception": false,
     "start_time": "2022-04-08T22:48:44.259042",
     "status": "completed"
    },
    "tags": []
   },
   "outputs": [],
   "source": [
    "y_reshaped"
   ]
  },
  {
   "cell_type": "code",
   "execution_count": null,
   "id": "c82d1f3d",
   "metadata": {},
   "outputs": [],
   "source": [
    "image_no_ship = x_reshaped[y==0]\n",
    "image_ship = x_reshaped[y==1]"
   ]
  },
  {
   "cell_type": "code",
   "execution_count": null,
   "id": "1a2c18e6",
   "metadata": {
    "execution": {
     "iopub.execute_input": "2022-04-08T22:48:44.722722Z",
     "iopub.status.busy": "2022-04-08T22:48:44.721994Z",
     "iopub.status.idle": "2022-04-08T22:48:46.126275Z",
     "shell.execute_reply": "2022-04-08T22:48:46.126848Z",
     "shell.execute_reply.started": "2022-03-23T13:24:23.723859Z"
    },
    "papermill": {
     "duration": 1.475831,
     "end_time": "2022-04-08T22:48:46.127044",
     "exception": false,
     "start_time": "2022-04-08T22:48:44.651213",
     "status": "completed"
    },
    "tags": []
   },
   "outputs": [],
   "source": [
    "def plot(a,b):\n",
    "    \n",
    "    plt.figure(figsize=(15, 15))\n",
    "    for i, k in enumerate(range(1,9)):\n",
    "        if i < 4:\n",
    "            plt.subplot(2,4,k)\n",
    "            plt.title('Not A Ship')\n",
    "            plt.imshow(image_no_ship[i+2])\n",
    "            plt.axis(\"off\")\n",
    "        else:\n",
    "            plt.subplot(2,4,k)\n",
    "            plt.title('Ship')\n",
    "            plt.imshow(image_ship[i+15])\n",
    "            plt.axis(\"off\")\n",
    "            \n",
    "    plt.subplots_adjust(bottom=0.3, top=0.7, hspace=0.25)"
   ]
  },
  {
   "cell_type": "code",
   "execution_count": null,
   "id": "bf8b9012",
   "metadata": {},
   "outputs": [],
   "source": [
    "plot(image_no_ship, image_ship)"
   ]
  },
  {
   "cell_type": "code",
   "execution_count": null,
   "id": "2a3ce981",
   "metadata": {
    "execution": {
     "iopub.execute_input": "2022-04-08T22:48:46.444972Z",
     "iopub.status.busy": "2022-04-08T22:48:46.443989Z",
     "iopub.status.idle": "2022-04-08T22:48:48.841055Z",
     "shell.execute_reply": "2022-04-08T22:48:48.841548Z",
     "shell.execute_reply.started": "2022-03-23T13:24:25.070153Z"
    },
    "papermill": {
     "duration": 2.485249,
     "end_time": "2022-04-08T22:48:48.841724",
     "exception": false,
     "start_time": "2022-04-08T22:48:46.356475",
     "status": "completed"
    },
    "tags": []
   },
   "outputs": [],
   "source": [
    "def plotHistogram(ship, not_ship):\n",
    "\n",
    "    plt.figure(figsize = (10,7))\n",
    "    plt.subplot(2,2,1)\n",
    "    plt.imshow(ship)\n",
    "    plt.axis('off')\n",
    "    plt.title('Ship')\n",
    "    histo = plt.subplot(2,2,2)\n",
    "    histo.set_ylabel('Count', fontweight = \"bold\")\n",
    "    histo.set_xlabel('Pixel Intensity', fontweight = \"bold\")\n",
    "    n_bins = 30\n",
    "    plt.hist(ship[:,:,0].flatten(), bins = n_bins, lw = 0, color = 'r', alpha = 0.5);\n",
    "    plt.hist(ship[:,:,1].flatten(), bins = n_bins, lw = 0, color = 'g', alpha = 0.5);\n",
    "    plt.hist(ship[:,:,2].flatten(), bins = n_bins, lw = 0, color = 'b', alpha = 0.5);\n",
    "    plt.show()\n",
    "    print(\"Minimum pixel value of this image: {}\".format(ship.min()))\n",
    "    print(\"Maximum pixel value of this image: {}\".format(ship.max()))\n",
    "    plt.figure(figsize = (10,7))\n",
    "    plt.subplot(2,2,3)\n",
    "    plt.imshow(not_ship)\n",
    "    plt.axis('off')\n",
    "    plt.title('Not A Ship')\n",
    "    histo = plt.subplot(2,2,4)\n",
    "    histo.set_ylabel('Count', fontweight = \"bold\")\n",
    "    histo.set_xlabel('Pixel Intensity', fontweight = \"bold\")\n",
    "    n_bins = 30\n",
    "    plt.hist(not_ship[:,:,0].flatten(), bins = n_bins, lw = 0, color = 'r', alpha = 0.5);\n",
    "    plt.hist(not_ship[:,:,1].flatten(), bins = n_bins, lw = 0, color = 'g', alpha = 0.5);\n",
    "    plt.hist(not_ship[:,:,2].flatten(), bins = n_bins, lw = 0, color = 'b', alpha = 0.5);\n",
    "    plt.show()\n",
    "    print(\"Minimum pixel value of this image: {}\".format(not_ship.min()))\n",
    "    print(\"Maximum pixel value of this image: {}\".format(not_ship.max()))\n",
    "\n"
   ]
  },
  {
   "cell_type": "code",
   "execution_count": null,
   "id": "b659fdce",
   "metadata": {
    "scrolled": true
   },
   "outputs": [],
   "source": [
    "for i in range (20,23):\n",
    "    plotHistogram(x_reshaped[y==1][i], x_reshaped[y==0][i])"
   ]
  },
  {
   "cell_type": "code",
   "execution_count": null,
   "id": "b5071440",
   "metadata": {},
   "outputs": [],
   "source": [
    "my_list = [(0, 'R channel'), (1, 'G channel'), (2, 'B channel')]"
   ]
  },
  {
   "cell_type": "code",
   "execution_count": null,
   "id": "6508aa43",
   "metadata": {
    "execution": {
     "iopub.execute_input": "2022-04-08T22:48:49.190880Z",
     "iopub.status.busy": "2022-04-08T22:48:49.190242Z",
     "iopub.status.idle": "2022-04-08T22:48:49.850877Z",
     "shell.execute_reply": "2022-04-08T22:48:49.850316Z",
     "shell.execute_reply.started": "2022-03-23T13:24:27.498343Z"
    },
    "papermill": {
     "duration": 0.748658,
     "end_time": "2022-04-08T22:48:49.851030",
     "exception": false,
     "start_time": "2022-04-08T22:48:49.102372",
     "status": "completed"
    },
    "tags": []
   },
   "outputs": [],
   "source": [
    "plt.figure(figsize = (15,15))\n",
    "\n",
    "for i, k in my_list:\n",
    "    plt.subplot(1,3,i+1)\n",
    "    plt.title(k)\n",
    "    plt.ylabel('Height {}'.format(x_reshaped[y==0][5].shape[0]))\n",
    "    plt.xlabel('Width {}'.format(x_reshaped[y==0][5].shape[1]))\n",
    "    plt.imshow(x_reshaped[y==0][5][ : , : , i])"
   ]
  },
  {
   "cell_type": "code",
   "execution_count": null,
   "id": "5d637332",
   "metadata": {},
   "outputs": [],
   "source": [
    "my_list = [(0, 'R channel'), (1, 'G channel'), (2, 'B channel')]"
   ]
  },
  {
   "cell_type": "code",
   "execution_count": null,
   "id": "240ff1f1",
   "metadata": {
    "execution": {
     "iopub.execute_input": "2022-04-08T22:48:50.040770Z",
     "iopub.status.busy": "2022-04-08T22:48:50.039771Z",
     "iopub.status.idle": "2022-04-08T22:48:50.649336Z",
     "shell.execute_reply": "2022-04-08T22:48:50.649853Z",
     "shell.execute_reply.started": "2022-03-23T13:24:28.175475Z"
    },
    "papermill": {
     "duration": 0.70818,
     "end_time": "2022-04-08T22:48:50.650022",
     "exception": false,
     "start_time": "2022-04-08T22:48:49.941842",
     "status": "completed"
    },
    "tags": []
   },
   "outputs": [],
   "source": [
    "plt.figure(figsize = (15,15))\n",
    "\n",
    "for i, k in my_list:\n",
    "    plt.subplot(1,3,i+1)\n",
    "    plt.title(k)\n",
    "    plt.ylabel('Height {}'.format(x_reshaped[y==0][5].shape[0]))\n",
    "    plt.xlabel('Width {}'.format(x_reshaped[y==0][5].shape[1]))\n",
    "    plt.imshow(x_reshaped[y==1][5][ : , : , i])"
   ]
  },
  {
   "cell_type": "code",
   "execution_count": null,
   "id": "f3b978f5",
   "metadata": {
    "execution": {
     "iopub.execute_input": "2022-04-08T22:48:51.381621Z",
     "iopub.status.busy": "2022-04-08T22:48:51.380658Z",
     "iopub.status.idle": "2022-04-08T22:48:51.605141Z",
     "shell.execute_reply": "2022-04-08T22:48:51.605676Z",
     "shell.execute_reply.started": "2022-03-23T13:24:29.401606Z"
    },
    "papermill": {
     "duration": 0.318534,
     "end_time": "2022-04-08T22:48:51.605850",
     "exception": false,
     "start_time": "2022-04-08T22:48:51.287316",
     "status": "completed"
    },
    "tags": []
   },
   "outputs": [],
   "source": [
    "x_reshaped = x_reshaped / 255"
   ]
  },
  {
   "cell_type": "code",
   "execution_count": null,
   "id": "0e8e24e6",
   "metadata": {
    "execution": {
     "iopub.execute_input": "2022-04-08T22:48:51.790420Z",
     "iopub.status.busy": "2022-04-08T22:48:51.789443Z",
     "iopub.status.idle": "2022-04-08T22:48:51.795577Z",
     "shell.execute_reply": "2022-04-08T22:48:51.796096Z",
     "shell.execute_reply.started": "2022-03-23T13:24:29.624841Z"
    },
    "papermill": {
     "duration": 0.100051,
     "end_time": "2022-04-08T22:48:51.796261",
     "exception": false,
     "start_time": "2022-04-08T22:48:51.696210",
     "status": "completed"
    },
    "tags": []
   },
   "outputs": [],
   "source": [
    "x_reshaped[0][0][0] "
   ]
  },
  {
   "cell_type": "code",
   "execution_count": null,
   "id": "85b51d0c",
   "metadata": {
    "execution": {
     "iopub.execute_input": "2022-04-08T22:48:51.983424Z",
     "iopub.status.busy": "2022-04-08T22:48:51.982464Z",
     "iopub.status.idle": "2022-04-08T22:48:53.384265Z",
     "shell.execute_reply": "2022-04-08T22:48:53.384899Z",
     "shell.execute_reply.started": "2022-03-23T13:24:29.633864Z"
    },
    "papermill": {
     "duration": 1.49811,
     "end_time": "2022-04-08T22:48:53.385082",
     "exception": false,
     "start_time": "2022-04-08T22:48:51.886972",
     "status": "completed"
    },
    "tags": []
   },
   "outputs": [],
   "source": [
    "n_bins = 30\n",
    "plt.hist(x_reshaped[y == 0][0][:,:,0].flatten(), bins = n_bins, lw = 0, color = 'r', alpha = 0.5);\n",
    "plt.hist(x_reshaped[y == 0][0][:,:,1].flatten(), bins = n_bins, lw = 0, color = 'g', alpha = 0.5);\n",
    "plt.hist(x_reshaped[y == 0][0][:,:,2].flatten(), bins = n_bins, lw = 0, color = 'b', alpha = 0.5);\n",
    "plt.ylabel('Count', fontweight = \"bold\")\n",
    "plt.xlabel('Pixel Intensity', fontweight = \"bold\")\n",
    "plt.title(\"Histogram of normalized data\")\n",
    "plt.show()"
   ]
  },
  {
   "cell_type": "code",
   "execution_count": null,
   "id": "16e849b2",
   "metadata": {},
   "outputs": [],
   "source": [
    "x_train_1, x_test, y_train_1, y_test = train_test_split(x_reshaped, y_reshaped,\n",
    "                                                        test_size = 0.20, random_state = 42)"
   ]
  },
  {
   "cell_type": "code",
   "execution_count": null,
   "id": "053135f1",
   "metadata": {},
   "outputs": [],
   "source": [
    "x_train, x_val, y_train, y_val = train_test_split(x_train_1, y_train_1, \n",
    "                                                  test_size = 0.25, random_state = 42)"
   ]
  },
  {
   "cell_type": "code",
   "execution_count": null,
   "id": "cb7e8b70",
   "metadata": {
    "execution": {
     "iopub.execute_input": "2022-04-08T22:48:53.755765Z",
     "iopub.status.busy": "2022-04-08T22:48:53.754758Z",
     "iopub.status.idle": "2022-04-08T22:48:54.161874Z",
     "shell.execute_reply": "2022-04-08T22:48:54.162545Z",
     "shell.execute_reply.started": "2022-03-23T13:24:30.41357Z"
    },
    "papermill": {
     "duration": 0.50226,
     "end_time": "2022-04-08T22:48:54.162761",
     "exception": false,
     "start_time": "2022-04-08T22:48:53.660501",
     "status": "completed"
    },
    "tags": []
   },
   "outputs": [],
   "source": [
    "print(\"x_train shape\",x_train.shape)\n",
    "print(\"x_test shape\",x_test.shape)\n",
    "print(\"y_train shape\",y_train.shape)\n",
    "print(\"y_test shape\",y_test.shape)\n",
    "print(\"y_train shape\",x_val.shape)\n",
    "print(\"y_test shape\",y_val.shape)"
   ]
  },
  {
   "cell_type": "code",
   "execution_count": null,
   "id": "6051b0fd",
   "metadata": {
    "execution": {
     "iopub.execute_input": "2022-04-08T22:48:54.351055Z",
     "iopub.status.busy": "2022-04-08T22:48:54.350085Z",
     "iopub.status.idle": "2022-04-08T22:48:54.355824Z",
     "shell.execute_reply": "2022-04-08T22:48:54.356389Z",
     "shell.execute_reply.started": "2022-03-23T13:24:30.821697Z"
    },
    "papermill": {
     "duration": 0.101487,
     "end_time": "2022-04-08T22:48:54.356578",
     "exception": false,
     "start_time": "2022-04-08T22:48:54.255091",
     "status": "completed"
    },
    "tags": []
   },
   "outputs": [],
   "source": [
    "x_train.shape"
   ]
  },
  {
   "cell_type": "code",
   "execution_count": null,
   "id": "162fa024",
   "metadata": {},
   "outputs": [],
   "source": [
    "def create_model():\n",
    "    model = Sequential()\n",
    "    model.add(Flatten(input_shape=[80, 80, 3]))\n",
    "    model.add(Dense(200, activation='relu'))\n",
    "    model.add(Dense(150, activation='relu'))\n",
    "    model.add(Dense(2, activation='sigmoid'))\n",
    "    return model"
   ]
  },
  {
   "cell_type": "code",
   "execution_count": null,
   "id": "e8a6148c",
   "metadata": {},
   "outputs": [],
   "source": [
    "model = create_model()"
   ]
  },
  {
   "cell_type": "code",
   "execution_count": null,
   "id": "262aa0a7",
   "metadata": {},
   "outputs": [],
   "source": [
    "model.compile(loss='categorical_crossentropy', optimizer='Adam', metrics=['accuracy'])"
   ]
  },
  {
   "cell_type": "code",
   "execution_count": null,
   "id": "86df648a",
   "metadata": {},
   "outputs": [],
   "source": [
    "earlystopping = callbacks.EarlyStopping(monitor =\"val_loss\", \n",
    "                                        mode =\"min\", patience = 10, \n",
    "                                        restore_best_weights = True)"
   ]
  },
  {
   "cell_type": "code",
   "execution_count": null,
   "id": "c31b8eda",
   "metadata": {
    "execution": {
     "iopub.execute_input": "2022-04-08T22:48:54.732886Z",
     "iopub.status.busy": "2022-04-08T22:48:54.732183Z",
     "iopub.status.idle": "2022-04-08T22:49:49.635085Z",
     "shell.execute_reply": "2022-04-08T22:49:49.634461Z"
    },
    "papermill": {
     "duration": 55.002766,
     "end_time": "2022-04-08T22:49:49.635248",
     "exception": false,
     "start_time": "2022-04-08T22:48:54.632482",
     "status": "completed"
    },
    "tags": []
   },
   "outputs": [],
   "source": [
    "history = model.fit(x_train, y_train, epochs = 10, validation_data=(x_val, y_val), callbacks = [earlystopping])"
   ]
  },
  {
   "cell_type": "code",
   "execution_count": null,
   "id": "7cf8ce66",
   "metadata": {
    "execution": {
     "iopub.execute_input": "2022-04-08T22:49:50.451505Z",
     "iopub.status.busy": "2022-04-08T22:49:50.450841Z",
     "iopub.status.idle": "2022-04-08T22:49:50.712488Z",
     "shell.execute_reply": "2022-04-08T22:49:50.711935Z"
    },
    "papermill": {
     "duration": 0.632675,
     "end_time": "2022-04-08T22:49:50.712651",
     "exception": false,
     "start_time": "2022-04-08T22:49:50.079976",
     "status": "completed"
    },
    "tags": []
   },
   "outputs": [],
   "source": [
    "model.evaluate(x_test, y_test)"
   ]
  },
  {
   "cell_type": "code",
   "execution_count": null,
   "id": "ee4e5e0d",
   "metadata": {
    "execution": {
     "iopub.execute_input": "2022-04-08T22:49:51.454594Z",
     "iopub.status.busy": "2022-04-08T22:49:51.453895Z",
     "iopub.status.idle": "2022-04-08T22:49:51.686485Z",
     "shell.execute_reply": "2022-04-08T22:49:51.685889Z"
    },
    "papermill": {
     "duration": 0.605388,
     "end_time": "2022-04-08T22:49:51.686659",
     "exception": false,
     "start_time": "2022-04-08T22:49:51.081271",
     "status": "completed"
    },
    "tags": []
   },
   "outputs": [],
   "source": [
    "pd.DataFrame(history.history).plot();"
   ]
  },
  {
   "cell_type": "code",
   "execution_count": null,
   "id": "b9d2daa4",
   "metadata": {},
   "outputs": [],
   "source": [
    "def create_model():\n",
    "    model = Sequential()\n",
    "    model.add(Flatten(input_shape=[80, 80, 3]))\n",
    "    model.add(Dense(200, activation='relu'))\n",
    "    model.add(Dense(200, activation='relu'))\n",
    "    model.add(Dense(100, activation='relu'))\n",
    "    model.add(Dense(50, activation='relu'))\n",
    "    model.add(Dense(2, activation='softmax'))\n",
    "    return model"
   ]
  },
  {
   "cell_type": "code",
   "execution_count": null,
   "id": "91c06f70",
   "metadata": {},
   "outputs": [],
   "source": [
    "model = create_model()"
   ]
  },
  {
   "cell_type": "code",
   "execution_count": null,
   "id": "94851ec3",
   "metadata": {},
   "outputs": [],
   "source": [
    "model.compile(loss='categorical_crossentropy', optimizer='Adam', metrics=['accuracy'])"
   ]
  },
  {
   "cell_type": "code",
   "execution_count": null,
   "id": "248ed4c1",
   "metadata": {},
   "outputs": [],
   "source": [
    "earlystopping = callbacks.EarlyStopping(monitor =\"val_loss\", \n",
    "                                        mode =\"min\", patience = 10, \n",
    "                                        restore_best_weights = True)"
   ]
  },
  {
   "cell_type": "code",
   "execution_count": null,
   "id": "07230ac4",
   "metadata": {
    "execution": {
     "iopub.execute_input": "2022-04-08T22:49:53.169001Z",
     "iopub.status.busy": "2022-04-08T22:49:53.168241Z",
     "iopub.status.idle": "2022-04-08T22:50:22.888849Z",
     "shell.execute_reply": "2022-04-08T22:50:22.889440Z"
    },
    "papermill": {
     "duration": 30.102189,
     "end_time": "2022-04-08T22:50:22.889676",
     "exception": false,
     "start_time": "2022-04-08T22:49:52.787487",
     "status": "completed"
    },
    "tags": []
   },
   "outputs": [],
   "source": [
    "history = model.fit(x_train, y_train, epochs = 100, validation_data=(x_val, y_val), callbacks = [earlystopping])"
   ]
  },
  {
   "cell_type": "code",
   "execution_count": null,
   "id": "4cb3beb3",
   "metadata": {
    "execution": {
     "iopub.execute_input": "2022-04-08T22:50:23.938129Z",
     "iopub.status.busy": "2022-04-08T22:50:23.937367Z",
     "iopub.status.idle": "2022-04-08T22:50:24.209782Z",
     "shell.execute_reply": "2022-04-08T22:50:24.209192Z"
    },
    "papermill": {
     "duration": 0.785069,
     "end_time": "2022-04-08T22:50:24.209919",
     "exception": false,
     "start_time": "2022-04-08T22:50:23.424850",
     "status": "completed"
    },
    "tags": []
   },
   "outputs": [],
   "source": [
    "model.evaluate(x_test, y_test)"
   ]
  },
  {
   "cell_type": "code",
   "execution_count": null,
   "id": "ab9d1b1d",
   "metadata": {
    "execution": {
     "iopub.execute_input": "2022-04-08T22:50:25.236400Z",
     "iopub.status.busy": "2022-04-08T22:50:25.235395Z",
     "iopub.status.idle": "2022-04-08T22:50:25.460753Z",
     "shell.execute_reply": "2022-04-08T22:50:25.461254Z"
    },
    "papermill": {
     "duration": 0.741686,
     "end_time": "2022-04-08T22:50:25.461443",
     "exception": false,
     "start_time": "2022-04-08T22:50:24.719757",
     "status": "completed"
    },
    "tags": []
   },
   "outputs": [],
   "source": [
    "pd.DataFrame(history.history).plot();"
   ]
  },
  {
   "cell_type": "code",
   "execution_count": null,
   "id": "e9eca519",
   "metadata": {
    "execution": {
     "iopub.execute_input": "2022-04-08T22:50:27.520937Z",
     "iopub.status.busy": "2022-04-08T22:50:27.520276Z",
     "iopub.status.idle": "2022-04-08T22:50:27.856268Z",
     "shell.execute_reply": "2022-04-08T22:50:27.856976Z"
    },
    "papermill": {
     "duration": 0.857209,
     "end_time": "2022-04-08T22:50:27.857227",
     "exception": false,
     "start_time": "2022-04-08T22:50:27.000018",
     "status": "completed"
    },
    "tags": []
   },
   "outputs": [],
   "source": [
    "prediction = model.predict(x_test)\n",
    "pd.Series(prediction[0], index=[\"Not A Ship\", \"Ship\"])"
   ]
  },
  {
   "cell_type": "code",
   "execution_count": null,
   "id": "9ff16f48",
   "metadata": {
    "execution": {
     "iopub.execute_input": "2022-04-08T22:50:28.887191Z",
     "iopub.status.busy": "2022-04-08T22:50:28.886348Z",
     "iopub.status.idle": "2022-04-08T22:50:28.992055Z",
     "shell.execute_reply": "2022-04-08T22:50:28.991457Z"
    },
    "papermill": {
     "duration": 0.619077,
     "end_time": "2022-04-08T22:50:28.992209",
     "exception": false,
     "start_time": "2022-04-08T22:50:28.373132",
     "status": "completed"
    },
    "tags": []
   },
   "outputs": [],
   "source": [
    "plt.imshow(x_test[0])\n",
    "plt.axis(\"off\")\n",
    "plt.show()"
   ]
  },
  {
   "cell_type": "code",
   "execution_count": null,
   "id": "9e07a1bd",
   "metadata": {
    "execution": {
     "iopub.execute_input": "2022-04-08T22:50:31.060108Z",
     "iopub.status.busy": "2022-04-08T22:50:31.059409Z",
     "iopub.status.idle": "2022-04-08T22:50:31.069948Z",
     "shell.execute_reply": "2022-04-08T22:50:31.070490Z"
    },
    "papermill": {
     "duration": 0.538049,
     "end_time": "2022-04-08T22:50:31.070698",
     "exception": false,
     "start_time": "2022-04-08T22:50:30.532649",
     "status": "completed"
    },
    "tags": []
   },
   "outputs": [],
   "source": [
    "predicted_data = pd.DataFrame(prediction, columns=[\"Not A Ship\", \"Ship\"])\n",
    "predicted_data.head(3)"
   ]
  },
  {
   "cell_type": "code",
   "execution_count": null,
   "id": "e2f54132",
   "metadata": {
    "execution": {
     "iopub.execute_input": "2022-04-08T22:50:32.104274Z",
     "iopub.status.busy": "2022-04-08T22:50:32.103649Z",
     "iopub.status.idle": "2022-04-08T22:50:32.114178Z",
     "shell.execute_reply": "2022-04-08T22:50:32.114685Z"
    },
    "papermill": {
     "duration": 0.531902,
     "end_time": "2022-04-08T22:50:32.114874",
     "exception": false,
     "start_time": "2022-04-08T22:50:31.582972",
     "status": "completed"
    },
    "tags": []
   },
   "outputs": [],
   "source": [
    "y_test_data = pd.DataFrame(y_test, columns=[\"Not A Ship\", \"Ship\"])\n",
    "y_test_data.head(3)"
   ]
  },
  {
   "cell_type": "code",
   "execution_count": null,
   "id": "6ca89aac",
   "metadata": {
    "execution": {
     "iopub.execute_input": "2022-04-08T22:50:33.146988Z",
     "iopub.status.busy": "2022-04-08T22:50:33.146345Z",
     "iopub.status.idle": "2022-04-08T22:50:33.157799Z",
     "shell.execute_reply": "2022-04-08T22:50:33.158287Z"
    },
    "papermill": {
     "duration": 0.532057,
     "end_time": "2022-04-08T22:50:33.158464",
     "exception": false,
     "start_time": "2022-04-08T22:50:32.626407",
     "status": "completed"
    },
    "tags": []
   },
   "outputs": [],
   "source": [
    "predicted_data['There is a Ship'] = y_test[:, 1]\n",
    "predicted_data.head()"
   ]
  },
  {
   "cell_type": "code",
   "execution_count": null,
   "id": "8f4f05b6",
   "metadata": {
    "execution": {
     "iopub.execute_input": "2022-04-08T22:50:34.217305Z",
     "iopub.status.busy": "2022-04-08T22:50:34.216557Z",
     "iopub.status.idle": "2022-04-08T22:50:34.257461Z",
     "shell.execute_reply": "2022-04-08T22:50:34.256755Z"
    },
    "papermill": {
     "duration": 0.588539,
     "end_time": "2022-04-08T22:50:34.257627",
     "exception": false,
     "start_time": "2022-04-08T22:50:33.669088",
     "status": "completed"
    },
    "tags": []
   },
   "outputs": [],
   "source": [
    "predicted_data[\"Difference\"] = predicted_data[\"Ship\"] - predicted_data[\"There is a Ship\"]\n",
    "predicted_data"
   ]
  },
  {
   "cell_type": "code",
   "execution_count": null,
   "id": "63eaf3ac",
   "metadata": {
    "execution": {
     "iopub.execute_input": "2022-04-08T22:50:36.345434Z",
     "iopub.status.busy": "2022-04-08T22:50:36.336103Z",
     "iopub.status.idle": "2022-04-08T22:50:36.350286Z",
     "shell.execute_reply": "2022-04-08T22:50:36.349614Z"
    },
    "papermill": {
     "duration": 0.536717,
     "end_time": "2022-04-08T22:50:36.350431",
     "exception": false,
     "start_time": "2022-04-08T22:50:35.813714",
     "status": "completed"
    },
    "tags": []
   },
   "outputs": [],
   "source": [
    "predicted_data.sort_values('Difference', ascending=False).head(10)"
   ]
  },
  {
   "cell_type": "code",
   "execution_count": null,
   "id": "326ccbca",
   "metadata": {},
   "outputs": [],
   "source": [
    "indexes = predicted_data.sort_values('Difference', ascending = False).head(4).index.to_list()"
   ]
  },
  {
   "cell_type": "code",
   "execution_count": null,
   "id": "9138aae1",
   "metadata": {
    "execution": {
     "iopub.execute_input": "2022-04-08T22:50:38.507294Z",
     "iopub.status.busy": "2022-04-08T22:50:38.506303Z",
     "iopub.status.idle": "2022-04-08T22:50:40.136852Z",
     "shell.execute_reply": "2022-04-08T22:50:40.136207Z"
    },
    "papermill": {
     "duration": 2.178351,
     "end_time": "2022-04-08T22:50:40.137020",
     "exception": false,
     "start_time": "2022-04-08T22:50:37.958669",
     "status": "completed"
    },
    "tags": []
   },
   "outputs": [],
   "source": [
    "def plotHistogram(image_index):\n",
    "\n",
    "    plt.figure(figsize = (10,7))\n",
    "    plt.subplot(2,2,1)\n",
    "    plt.imshow(x_test[image_index])\n",
    "    plt.axis('off')\n",
    "    plt.title('There is no ship. But predicted as a ship.')\n",
    "    histo = plt.subplot(2,2,2)\n",
    "    histo.set_ylabel('Count', fontweight = \"bold\")\n",
    "    histo.set_xlabel('Pixel Intensity', fontweight = \"bold\")\n",
    "    n_bins = 30\n",
    "    plt.hist(x_test[image_index][:,:,0].flatten(), bins = n_bins, lw = 0, color = 'r', alpha = 0.5);\n",
    "    plt.hist(x_test[image_index][:,:,1].flatten(), bins = n_bins, lw = 0, color = 'g', alpha = 0.5);\n",
    "    plt.hist(x_test[image_index][:,:,2].flatten(), bins = n_bins, lw = 0, color = 'b', alpha = 0.5);\n",
    "    plt.show()\n"
   ]
  },
  {
   "cell_type": "code",
   "execution_count": null,
   "id": "23f38cb0",
   "metadata": {},
   "outputs": [],
   "source": [
    "for i in indexes:\n",
    "    plotHistogram(i)"
   ]
  },
  {
   "cell_type": "code",
   "execution_count": null,
   "id": "c06295e3",
   "metadata": {
    "execution": {
     "iopub.execute_input": "2022-04-08T22:50:42.375740Z",
     "iopub.status.busy": "2022-04-08T22:50:42.374705Z",
     "iopub.status.idle": "2022-04-08T22:50:42.382635Z",
     "shell.execute_reply": "2022-04-08T22:50:42.383162Z"
    },
    "papermill": {
     "duration": 0.562544,
     "end_time": "2022-04-08T22:50:42.383348",
     "exception": false,
     "start_time": "2022-04-08T22:50:41.820804",
     "status": "completed"
    },
    "tags": []
   },
   "outputs": [],
   "source": [
    "predicted_data.sort_values('Difference', ascending=True).head(10)"
   ]
  },
  {
   "cell_type": "code",
   "execution_count": null,
   "id": "1e00181f",
   "metadata": {},
   "outputs": [],
   "source": [
    "indexes = predicted_data.sort_values('Difference', ascending = True).head(4).index.to_list()"
   ]
  },
  {
   "cell_type": "code",
   "execution_count": null,
   "id": "b855fa11",
   "metadata": {
    "execution": {
     "iopub.execute_input": "2022-04-08T22:50:44.559228Z",
     "iopub.status.busy": "2022-04-08T22:50:44.558461Z",
     "iopub.status.idle": "2022-04-08T22:50:46.731419Z",
     "shell.execute_reply": "2022-04-08T22:50:46.730907Z"
    },
    "papermill": {
     "duration": 2.75878,
     "end_time": "2022-04-08T22:50:46.731591",
     "exception": false,
     "start_time": "2022-04-08T22:50:43.972811",
     "status": "completed"
    },
    "tags": []
   },
   "outputs": [],
   "source": [
    "def plotHistogram(image_index):\n",
    "\n",
    "    plt.figure(figsize = (10,7))\n",
    "    plt.subplot(2,2,1)\n",
    "    plt.imshow(x_test[image_index])\n",
    "    plt.axis('off')\n",
    "    plt.title('There is a ship. But predicted as not a ship.')\n",
    "    histo = plt.subplot(2,2,2)\n",
    "    histo.set_ylabel('Count', fontweight = \"bold\")\n",
    "    histo.set_xlabel('Pixel Intensity', fontweight = \"bold\")\n",
    "    n_bins = 30\n",
    "    plt.hist(x_test[image_index][:,:,0].flatten(), bins = n_bins, lw = 0, color = 'r', alpha = 0.5);\n",
    "    plt.hist(x_test[image_index][:,:,1].flatten(), bins = n_bins, lw = 0, color = 'g', alpha = 0.5);\n",
    "    plt.hist(x_test[image_index][:,:,2].flatten(), bins = n_bins, lw = 0, color = 'b', alpha = 0.5);\n",
    "    plt.show()\n"
   ]
  },
  {
   "cell_type": "code",
   "execution_count": null,
   "id": "5a466b58",
   "metadata": {},
   "outputs": [],
   "source": [
    "for i in indexes:\n",
    "    plotHistogram(i)"
   ]
  },
  {
   "cell_type": "code",
   "execution_count": null,
   "id": "7fd71920",
   "metadata": {},
   "outputs": [],
   "source": [
    "def create_fully_convolution_network():\n",
    "    model = Sequential()\n",
    "\n",
    "    model.add(Conv2D(filters = 64, kernel_size = (4,4),padding = 'Same', \n",
    "                     activation ='relu', input_shape = (80,80,3)))\n",
    "    model.add(MaxPool2D(pool_size=(5,5)))\n",
    "    model.add(Dropout(0.25))\n",
    "    model.add(Conv2D(filters = 32, kernel_size = (3,3),padding = 'Same', \n",
    "                     activation ='relu'))\n",
    "    model.add(MaxPool2D(pool_size=(3,3), strides=(1,1)))\n",
    "    model.add(Dropout(0.25))\n",
    "    model.add(Conv2D(filters = 16, kernel_size = (2,2),padding = 'Same', \n",
    "                     activation ='relu'))\n",
    "    model.add(MaxPool2D(pool_size=(3,3), strides=(1,1)))\n",
    "    model.add(Dropout(0.25))\n",
    "    model.add(Flatten())\n",
    "    model.add(Dense(200, activation = \"relu\"))\n",
    "    model.add(Dropout(0.5))\n",
    "    model.add(Dense(100, activation = \"relu\"))\n",
    "    model.add(Dropout(0.5))\n",
    "    model.add(Dense(100, activation = \"relu\"))\n",
    "    model.add(Dropout(0.5))\n",
    "    model.add(Dense(50, activation = \"relu\"))\n",
    "    model.add(Dropout(0.5))\n",
    "    model.add(Dense(2, activation = \"softmax\"))\n",
    "    return model"
   ]
  },
  {
   "cell_type": "code",
   "execution_count": null,
   "id": "4498d49d",
   "metadata": {},
   "outputs": [],
   "source": [
    "model = create_fully_convolution_network()"
   ]
  },
  {
   "cell_type": "code",
   "execution_count": null,
   "id": "79973fa6",
   "metadata": {},
   "outputs": [],
   "source": [
    "optimizer = Adam(lr=0.001, beta_1=0.9, beta_2=0.999)"
   ]
  },
  {
   "cell_type": "code",
   "execution_count": null,
   "id": "583aeebd",
   "metadata": {},
   "outputs": [],
   "source": [
    "model.compile(optimizer = optimizer , loss = \"categorical_crossentropy\", metrics=[\"accuracy\"])"
   ]
  },
  {
   "cell_type": "code",
   "execution_count": null,
   "id": "ba74a91b",
   "metadata": {},
   "outputs": [],
   "source": [
    "earlystopping = callbacks.EarlyStopping(monitor =\"val_loss\", \n",
    "                                        patience = 10, \n",
    "                                        restore_best_weights = True)"
   ]
  },
  {
   "cell_type": "code",
   "execution_count": null,
   "id": "bc8974cd",
   "metadata": {
    "execution": {
     "iopub.execute_input": "2022-04-08T22:50:48.890664Z",
     "iopub.status.busy": "2022-04-08T22:50:48.889163Z",
     "iopub.status.idle": "2022-04-08T23:02:41.737618Z",
     "shell.execute_reply": "2022-04-08T23:02:41.738198Z"
    },
    "papermill": {
     "duration": 713.397518,
     "end_time": "2022-04-08T23:02:41.738388",
     "exception": false,
     "start_time": "2022-04-08T22:50:48.340870",
     "status": "completed"
    },
    "tags": []
   },
   "outputs": [],
   "source": [
    "history = model.fit(x_train, y_train, epochs = 30, validation_data=(x_val, y_val), callbacks = [earlystopping])"
   ]
  },
  {
   "cell_type": "code",
   "execution_count": null,
   "id": "6c27d49d",
   "metadata": {
    "execution": {
     "iopub.execute_input": "2022-04-08T23:02:45.350864Z",
     "iopub.status.busy": "2022-04-08T23:02:45.349822Z",
     "iopub.status.idle": "2022-04-08T23:02:46.698290Z",
     "shell.execute_reply": "2022-04-08T23:02:46.697760Z"
    },
    "papermill": {
     "duration": 3.157322,
     "end_time": "2022-04-08T23:02:46.698435",
     "exception": false,
     "start_time": "2022-04-08T23:02:43.541113",
     "status": "completed"
    },
    "tags": []
   },
   "outputs": [],
   "source": [
    "model.evaluate(x_test, y_test)"
   ]
  },
  {
   "cell_type": "code",
   "execution_count": null,
   "id": "611be052",
   "metadata": {
    "execution": {
     "iopub.execute_input": "2022-04-08T23:02:50.443243Z",
     "iopub.status.busy": "2022-04-08T23:02:50.442239Z",
     "iopub.status.idle": "2022-04-08T23:02:50.644695Z",
     "shell.execute_reply": "2022-04-08T23:02:50.645303Z"
    },
    "papermill": {
     "duration": 2.075572,
     "end_time": "2022-04-08T23:02:50.645469",
     "exception": false,
     "start_time": "2022-04-08T23:02:48.569897",
     "status": "completed"
    },
    "tags": []
   },
   "outputs": [],
   "source": [
    "pd.DataFrame(history.history).plot();"
   ]
  },
  {
   "cell_type": "code",
   "execution_count": null,
   "id": "d521f46a",
   "metadata": {
    "execution": {
     "iopub.execute_input": "2022-04-08T23:02:57.984286Z",
     "iopub.status.busy": "2022-04-08T23:02:57.983327Z",
     "iopub.status.idle": "2022-04-08T23:02:58.168445Z",
     "shell.execute_reply": "2022-04-08T23:02:58.169012Z"
    },
    "papermill": {
     "duration": 2.011576,
     "end_time": "2022-04-08T23:02:58.169185",
     "exception": false,
     "start_time": "2022-04-08T23:02:56.157609",
     "status": "completed"
    },
    "tags": []
   },
   "outputs": [],
   "source": [
    "datagen = ImageDataGenerator(\n",
    "        featurewise_center=False,\n",
    "        samplewise_center=False, \n",
    "        featurewise_std_normalization=False, \n",
    "        samplewise_std_normalization=False,  \n",
    "        zca_whitening=False,\n",
    "        rotation_range=5,  \n",
    "        zoom_range = 0.1,\n",
    "        width_shift_range=0.1,  \n",
    "        height_shift_range=0.1,  \n",
    "        horizontal_flip=False, \n",
    "        vertical_flip=False)  \n",
    "\n",
    "datagen.fit(x_train)"
   ]
  },
  {
   "cell_type": "code",
   "execution_count": null,
   "id": "b7922006",
   "metadata": {
    "execution": {
     "iopub.execute_input": "2022-04-08T23:03:05.659827Z",
     "iopub.status.busy": "2022-04-08T23:03:05.658833Z",
     "iopub.status.idle": "2022-04-08T23:03:06.908242Z",
     "shell.execute_reply": "2022-04-08T23:03:06.908814Z"
    },
    "papermill": {
     "duration": 3.13985,
     "end_time": "2022-04-08T23:03:06.908989",
     "exception": false,
     "start_time": "2022-04-08T23:03:03.769139",
     "status": "completed"
    },
    "tags": []
   },
   "outputs": [],
   "source": [
    "data = x_reshaped[y==1][15]\n",
    "samples = expand_dims(data, 0)\n",
    "datag = ImageDataGenerator(brightness_range=[0.2,1.0],\n",
    "                          zoom_range=[0.5,1.0],\n",
    "                          horizontal_flip=True,\n",
    "                          rotation_range=90)\n",
    "it = datag.flow(samples, batch_size=1)\n",
    "plt.figure(figsize = (10,10))\n",
    "for i in range(9):\n",
    "    plt.subplot(3,3,i+1)\n",
    "    batch = it.next()\n",
    "    image = batch[0].astype('uint8')\n",
    "    plt.imshow(image)\n",
    "plt.show()"
   ]
  },
  {
   "cell_type": "code",
   "execution_count": null,
   "id": "3a46f987",
   "metadata": {
    "execution": {
     "iopub.execute_input": "2022-04-08T23:03:15.375877Z",
     "iopub.status.busy": "2022-04-08T23:03:15.374887Z",
     "iopub.status.idle": "2022-04-08T23:14:43.981498Z",
     "shell.execute_reply": "2022-04-08T23:14:43.982215Z"
    },
    "papermill": {
     "duration": 690.433797,
     "end_time": "2022-04-08T23:14:43.982419",
     "exception": false,
     "start_time": "2022-04-08T23:03:13.548622",
     "status": "completed"
    },
    "tags": []
   },
   "outputs": [],
   "source": [
    "history = model.fit(datagen.flow(x_train, y_train), epochs = 100, \n",
    "                    validation_data=(x_val, y_val), callbacks = [earlystopping])"
   ]
  },
  {
   "cell_type": "code",
   "execution_count": null,
   "id": "d9120d3f",
   "metadata": {
    "execution": {
     "iopub.execute_input": "2022-04-08T23:14:49.879644Z",
     "iopub.status.busy": "2022-04-08T23:14:49.879024Z",
     "iopub.status.idle": "2022-04-08T23:14:51.078941Z",
     "shell.execute_reply": "2022-04-08T23:14:51.079845Z"
    },
    "papermill": {
     "duration": 4.155297,
     "end_time": "2022-04-08T23:14:51.080024",
     "exception": false,
     "start_time": "2022-04-08T23:14:46.924727",
     "status": "completed"
    },
    "tags": []
   },
   "outputs": [],
   "source": [
    "model.evaluate(x_test, y_test)"
   ]
  },
  {
   "cell_type": "code",
   "execution_count": null,
   "id": "adcb5142",
   "metadata": {},
   "outputs": [],
   "source": [
    "Y_pred = model.predict(x_test)"
   ]
  },
  {
   "cell_type": "code",
   "execution_count": null,
   "id": "569d76b0",
   "metadata": {},
   "outputs": [],
   "source": [
    "Y_pred_classes = np.argmax(Y_pred,axis = 1) "
   ]
  },
  {
   "cell_type": "code",
   "execution_count": null,
   "id": "888fc49d",
   "metadata": {},
   "outputs": [],
   "source": [
    "Y_true = np.argmax(y_test,axis = 1) "
   ]
  },
  {
   "cell_type": "code",
   "execution_count": null,
   "id": "819c8f5f",
   "metadata": {
    "execution": {
     "iopub.execute_input": "2022-04-08T23:14:57.007776Z",
     "iopub.status.busy": "2022-04-08T23:14:57.006850Z",
     "iopub.status.idle": "2022-04-08T23:15:00.952043Z",
     "shell.execute_reply": "2022-04-08T23:15:00.951251Z"
    },
    "papermill": {
     "duration": 6.948952,
     "end_time": "2022-04-08T23:15:00.952187",
     "exception": false,
     "start_time": "2022-04-08T23:14:54.003235",
     "status": "completed"
    },
    "tags": []
   },
   "outputs": [],
   "source": [
    "print(\"\\n\"\"Test Accuracy Score : \",metrics.accuracy_score(Y_true, Y_pred_classes),\"\\n\")\n",
    "\n",
    "fig, axis = plt.subplots(1, 3, figsize=(20,6))\n",
    "axis[0].plot(history.history['val_accuracy'], label='val_acc')\n",
    "axis[0].set_title(\"Validation Accuracy\")\n",
    "axis[0].set_xlabel(\"Epochs\")\n",
    "axis[0].set_ylabel(\"Val. Acc.\")\n",
    "axis[1].plot(history.history['accuracy'], label='acc')\n",
    "axis[1].set_title(\"Training Accuracy\")\n",
    "axis[1].set_xlabel(\"Epochs\")\n",
    "axis[0].set_ylabel(\"Train. Acc.\")\n",
    "axis[2].plot(history.history['val_loss'], label='val_loss')\n",
    "axis[2].set_title(\"Test Loss\")\n",
    "axis[2].set_xlabel(\"Epochs\")\n",
    "axis[2].set_ylabel(\"Loss\")\n",
    "\n",
    "plt.show()\n",
    "\n",
    "confusion_mtx = confusion_matrix(Y_true, Y_pred_classes) \n",
    "f,ax = plt.subplots(figsize=(7, 7))\n",
    "sns.heatmap(confusion_mtx, annot=True, linewidths=0.01,linecolor=\"gray\", fmt= '.1f',ax=ax)\n",
    "plt.xlabel(\"Predicted Label\")\n",
    "plt.ylabel(\"True Label\")\n",
    "plt.title(\"Confusion Matrix\")\n",
    "plt.tight_layout()\n",
    "\n",
    "plt.show()"
   ]
  },
  {
   "cell_type": "code",
   "execution_count": null,
   "id": "2064525e",
   "metadata": {},
   "outputs": [],
   "source": [
    "from sklearn.metrics import precision_score, recall_score, f1_score\n",
    "precision=precision_score(Y_true,Y_pred_classes)\n",
    "recall=recall_score(Y_true,Y_pred_classes)\n",
    "f1=f1_score(Y_true,Y_pred_classes)\n",
    "print('Precision: ',precision)\n",
    "print('recall: ',recall)\n",
    "print('f1_score: ',f1)"
   ]
  },
  {
   "cell_type": "code",
   "execution_count": null,
   "id": "10694b91",
   "metadata": {
    "execution": {
     "iopub.execute_input": "2022-04-08T23:15:06.851445Z",
     "iopub.status.busy": "2022-04-08T23:15:06.850439Z",
     "iopub.status.idle": "2022-04-08T23:15:07.035941Z",
     "shell.execute_reply": "2022-04-08T23:15:07.035231Z"
    },
    "papermill": {
     "duration": 3.174942,
     "end_time": "2022-04-08T23:15:07.036091",
     "exception": false,
     "start_time": "2022-04-08T23:15:03.861149",
     "status": "completed"
    },
    "tags": []
   },
   "outputs": [],
   "source": [
    "pd.DataFrame(history.history).plot();"
   ]
  },
  {
   "cell_type": "code",
   "execution_count": null,
   "id": "a197cf41",
   "metadata": {
    "execution": {
     "iopub.execute_input": "2022-04-08T23:15:18.892242Z",
     "iopub.status.busy": "2022-04-08T23:15:18.891270Z",
     "iopub.status.idle": "2022-04-08T23:15:20.033289Z",
     "shell.execute_reply": "2022-04-08T23:15:20.032761Z"
    },
    "papermill": {
     "duration": 4.07434,
     "end_time": "2022-04-08T23:15:20.033434",
     "exception": false,
     "start_time": "2022-04-08T23:15:15.959094",
     "status": "completed"
    },
    "tags": []
   },
   "outputs": [],
   "source": [
    "prediction = model.predict(x_test)\n",
    "pd.Series(prediction[0], index=[\"Not A Ship\", \"Ship\"])"
   ]
  },
  {
   "cell_type": "code",
   "execution_count": null,
   "id": "9ee296fd",
   "metadata": {
    "execution": {
     "iopub.execute_input": "2022-04-08T23:15:31.800955Z",
     "iopub.status.busy": "2022-04-08T23:15:31.800128Z",
     "iopub.status.idle": "2022-04-08T23:15:31.803950Z",
     "shell.execute_reply": "2022-04-08T23:15:31.804464Z"
    },
    "papermill": {
     "duration": 3.007294,
     "end_time": "2022-04-08T23:15:31.804667",
     "exception": false,
     "start_time": "2022-04-08T23:15:28.797373",
     "status": "completed"
    },
    "tags": []
   },
   "outputs": [],
   "source": [
    "predicted_data = pd.DataFrame(prediction, columns=[\"Not A Ship\", \"Ship\"])\n",
    "predicted_data.head(3)"
   ]
  },
  {
   "cell_type": "code",
   "execution_count": null,
   "id": "1fe7c3ab",
   "metadata": {
    "execution": {
     "iopub.execute_input": "2022-04-08T23:15:37.701287Z",
     "iopub.status.busy": "2022-04-08T23:15:37.700294Z",
     "iopub.status.idle": "2022-04-08T23:15:37.710628Z",
     "shell.execute_reply": "2022-04-08T23:15:37.711092Z"
    },
    "papermill": {
     "duration": 2.981217,
     "end_time": "2022-04-08T23:15:37.711252",
     "exception": false,
     "start_time": "2022-04-08T23:15:34.730035",
     "status": "completed"
    },
    "tags": []
   },
   "outputs": [],
   "source": [
    "y_test_data = pd.DataFrame(y_test, columns=[\"Not A Ship\", \"Ship\"])\n",
    "y_test_data.head(3)"
   ]
  },
  {
   "cell_type": "code",
   "execution_count": null,
   "id": "95dad152",
   "metadata": {
    "execution": {
     "iopub.execute_input": "2022-04-08T23:15:43.794655Z",
     "iopub.status.busy": "2022-04-08T23:15:43.793924Z",
     "iopub.status.idle": "2022-04-08T23:15:43.801490Z",
     "shell.execute_reply": "2022-04-08T23:15:43.800868Z"
    },
    "papermill": {
     "duration": 3.156598,
     "end_time": "2022-04-08T23:15:43.801665",
     "exception": false,
     "start_time": "2022-04-08T23:15:40.645067",
     "status": "completed"
    },
    "tags": []
   },
   "outputs": [],
   "source": [
    "predicted_data['There is a Ship'] = y_test[:, 1]\n",
    "predicted_data.head()"
   ]
  },
  {
   "cell_type": "code",
   "execution_count": null,
   "id": "a441b126",
   "metadata": {
    "execution": {
     "iopub.execute_input": "2022-04-08T23:15:49.670879Z",
     "iopub.status.busy": "2022-04-08T23:15:49.664321Z",
     "iopub.status.idle": "2022-04-08T23:15:49.679246Z",
     "shell.execute_reply": "2022-04-08T23:15:49.679885Z"
    },
    "papermill": {
     "duration": 2.929727,
     "end_time": "2022-04-08T23:15:49.680055",
     "exception": false,
     "start_time": "2022-04-08T23:15:46.750328",
     "status": "completed"
    },
    "tags": []
   },
   "outputs": [],
   "source": [
    "predicted_data[\"Difference\"] = predicted_data[\"Ship\"] - predicted_data[\"There is a Ship\"]\n",
    "predicted_data"
   ]
  },
  {
   "cell_type": "code",
   "execution_count": null,
   "id": "26f51fed",
   "metadata": {
    "execution": {
     "iopub.execute_input": "2022-04-08T23:16:01.596915Z",
     "iopub.status.busy": "2022-04-08T23:16:01.596276Z",
     "iopub.status.idle": "2022-04-08T23:16:01.609457Z",
     "shell.execute_reply": "2022-04-08T23:16:01.610048Z"
    },
    "papermill": {
     "duration": 2.922117,
     "end_time": "2022-04-08T23:16:01.610210",
     "exception": false,
     "start_time": "2022-04-08T23:15:58.688093",
     "status": "completed"
    },
    "tags": []
   },
   "outputs": [],
   "source": [
    "predicted_data.sort_values('Difference', ascending=False).head(10)"
   ]
  },
  {
   "cell_type": "code",
   "execution_count": null,
   "id": "d7058a7a",
   "metadata": {},
   "outputs": [],
   "source": [
    "indexes = predicted_data.sort_values('Difference', ascending = False).head(4).index.to_list()"
   ]
  },
  {
   "cell_type": "code",
   "execution_count": null,
   "id": "8587c149",
   "metadata": {
    "execution": {
     "iopub.execute_input": "2022-04-08T23:16:13.391106Z",
     "iopub.status.busy": "2022-04-08T23:16:13.383600Z",
     "iopub.status.idle": "2022-04-08T23:16:14.949815Z",
     "shell.execute_reply": "2022-04-08T23:16:14.950319Z"
    },
    "papermill": {
     "duration": 4.525408,
     "end_time": "2022-04-08T23:16:14.950486",
     "exception": false,
     "start_time": "2022-04-08T23:16:10.425078",
     "status": "completed"
    },
    "tags": []
   },
   "outputs": [],
   "source": [
    "def plotHistogram(image_index):\n",
    "\n",
    "    plt.figure(figsize = (10,7))\n",
    "    plt.subplot(2,2,1)\n",
    "    plt.imshow(x_test[image_index])\n",
    "    plt.axis('off')\n",
    "    plt.title('There is no ship. But predicted as a ship.')\n",
    "    histo = plt.subplot(2,2,2)\n",
    "    histo.set_ylabel('Count', fontweight = \"bold\")\n",
    "    histo.set_xlabel('Pixel Intensity', fontweight = \"bold\")\n",
    "    n_bins = 30\n",
    "    plt.hist(x_test[image_index][:,:,0].flatten(), bins = n_bins, lw = 0, color = 'r', alpha = 0.5);\n",
    "    plt.hist(x_test[image_index][:,:,1].flatten(), bins = n_bins, lw = 0, color = 'g', alpha = 0.5);\n",
    "    plt.hist(x_test[image_index][:,:,2].flatten(), bins = n_bins, lw = 0, color = 'b', alpha = 0.5);\n",
    "    plt.show()\n",
    "\n",
    "for i in indexes:\n",
    "    plotHistogram(i)"
   ]
  }
 ],
 "metadata": {
  "kernelspec": {
   "display_name": "Python 3 (ipykernel)",
   "language": "python",
   "name": "python3"
  },
  "language_info": {
   "codemirror_mode": {
    "name": "ipython",
    "version": 3
   },
   "file_extension": ".py",
   "mimetype": "text/x-python",
   "name": "python",
   "nbconvert_exporter": "python",
   "pygments_lexer": "ipython3",
   "version": "3.10.13"
  },
  "papermill": {
   "default_parameters": {},
   "duration": 1727.79369,
   "end_time": "2022-04-08T23:16:38.813010",
   "environment_variables": {},
   "exception": null,
   "input_path": "__notebook__.ipynb",
   "output_path": "__notebook__.ipynb",
   "parameters": {},
   "start_time": "2022-04-08T22:47:51.019320",
   "version": "2.3.3"
  }
 },
 "nbformat": 4,
 "nbformat_minor": 5
}
